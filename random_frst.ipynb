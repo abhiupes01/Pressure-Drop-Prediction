{
 "cells": [
  {
   "cell_type": "code",
   "execution_count": 11,
   "metadata": {},
   "outputs": [],
   "source": [
    "import pandas as pd\n",
    "import numpy as np\n",
    "import matplotlib.pyplot as plt\n",
    "%matplotlib inline\n",
    "import pylab\n",
    "from sklearn import metrics\n",
    "import seaborn as sns\n",
    "from scipy import stats\n",
    "from scipy.stats import skew, norm, probplot, boxcox\n",
    "from scipy.special import boxcox1p\n",
    "import scipy\n",
    "from sklearn.metrics import r2_score\n",
    "# plt.style.use('fivethirtyeight')"
   ]
  },
  {
   "cell_type": "code",
   "execution_count": 2,
   "metadata": {},
   "outputs": [],
   "source": [
    "data = pd.read_csv('pressure_loss.csv')"
   ]
  },
  {
   "cell_type": "code",
   "execution_count": 3,
   "metadata": {},
   "outputs": [],
   "source": [
    "data['diff_p'] = data['diff_p']*0.24884"
   ]
  },
  {
   "cell_type": "code",
   "execution_count": 4,
   "metadata": {},
   "outputs": [],
   "source": [
    "from sklearn.model_selection import train_test_split\n",
    "from sklearn.ensemble import RandomForestRegressor"
   ]
  },
  {
   "cell_type": "code",
   "execution_count": 5,
   "metadata": {},
   "outputs": [],
   "source": [
    "target = data['diff_p']\n",
    "data_train = data.drop(['annulus','test_fluid','diff_p'],axis=1)"
   ]
  },
  {
   "cell_type": "code",
   "execution_count": 6,
   "metadata": {},
   "outputs": [],
   "source": [
    "feature_list = list(data_train.columns)"
   ]
  },
  {
   "cell_type": "code",
   "execution_count": 7,
   "metadata": {},
   "outputs": [],
   "source": [
    "# convert data frame to np.arrays for processing\n",
    "target = np.array(target)\n",
    "data_train = np.array(data_train)"
   ]
  },
  {
   "cell_type": "code",
   "execution_count": 8,
   "metadata": {},
   "outputs": [],
   "source": [
    "# splitting the data into train, test \n",
    "x_train, x_test, y_train, y_test = train_test_split(data_train, target, random_state=42, test_size=0.3)"
   ]
  },
  {
   "cell_type": "code",
   "execution_count": 9,
   "metadata": {},
   "outputs": [
    {
     "data": {
      "text/plain": [
       "RandomForestRegressor(bootstrap=True, criterion='mse', max_depth=None,\n",
       "                      max_features='auto', max_leaf_nodes=None,\n",
       "                      min_impurity_decrease=0.0, min_impurity_split=None,\n",
       "                      min_samples_leaf=1, min_samples_split=2,\n",
       "                      min_weight_fraction_leaf=0.0, n_estimators=5, n_jobs=None,\n",
       "                      oob_score=False, random_state=None, verbose=0,\n",
       "                      warm_start=False)"
      ]
     },
     "execution_count": 9,
     "metadata": {},
     "output_type": "execute_result"
    }
   ],
   "source": [
    "rf = RandomForestRegressor(n_estimators=5)\n",
    "rf.fit(x_train,y_train)"
   ]
  },
  {
   "cell_type": "code",
   "execution_count": 10,
   "metadata": {},
   "outputs": [],
   "source": [
    "predict = rf.predict(x_test)"
   ]
  },
  {
   "cell_type": "code",
   "execution_count": 12,
   "metadata": {},
   "outputs": [
    {
     "data": {
      "text/plain": [
       "0.9787345567896495"
      ]
     },
     "execution_count": 12,
     "metadata": {},
     "output_type": "execute_result"
    }
   ],
   "source": [
    "r2_score(predict,y_test)"
   ]
  },
  {
   "cell_type": "code",
   "execution_count": 13,
   "metadata": {},
   "outputs": [
    {
     "name": "stdout",
     "output_type": "stream",
     "text": [
      "Variable: di/do                Importance: 0.58\n",
      "Variable: flow_rate_gpm        Importance: 0.37\n",
      "Variable: k                    Importance: 0.04\n",
      "Variable: ecc                  Importance: 0.0\n",
      "Variable: shear_pa             Importance: 0.0\n",
      "Variable: m                    Importance: 0.0\n"
     ]
    }
   ],
   "source": [
    "# feature importance\n",
    "importances = list(rf.feature_importances_)\n",
    "\n",
    "#list of tuples with variables and importances\n",
    "feature_importance = [(feature,round(importance,2)) for feature,importance in zip(feature_list,importances)]\n",
    "\n",
    "feature_importance = sorted(feature_importance,key=lambda x: x[1],reverse=True)\n",
    "\n",
    "[print('Variable: {:20} Importance: {}'.format(*pair)) for pair in feature_importance];"
   ]
  },
  {
   "cell_type": "code",
   "execution_count": 14,
   "metadata": {},
   "outputs": [
    {
     "data": {
      "text/html": [
       "<div>\n",
       "<style scoped>\n",
       "    .dataframe tbody tr th:only-of-type {\n",
       "        vertical-align: middle;\n",
       "    }\n",
       "\n",
       "    .dataframe tbody tr th {\n",
       "        vertical-align: top;\n",
       "    }\n",
       "\n",
       "    .dataframe thead th {\n",
       "        text-align: right;\n",
       "    }\n",
       "</style>\n",
       "<table border=\"1\" class=\"dataframe\">\n",
       "  <thead>\n",
       "    <tr style=\"text-align: right;\">\n",
       "      <th></th>\n",
       "      <th>0</th>\n",
       "    </tr>\n",
       "  </thead>\n",
       "  <tbody>\n",
       "    <tr>\n",
       "      <td>Q (gpm)</td>\n",
       "      <td>0.370326</td>\n",
       "    </tr>\n",
       "    <tr>\n",
       "      <td>e</td>\n",
       "      <td>0.002366</td>\n",
       "    </tr>\n",
       "    <tr>\n",
       "      <td>Di/Do</td>\n",
       "      <td>0.583853</td>\n",
       "    </tr>\n",
       "    <tr>\n",
       "      <td>τ_y</td>\n",
       "      <td>0.002451</td>\n",
       "    </tr>\n",
       "    <tr>\n",
       "      <td>K</td>\n",
       "      <td>0.036935</td>\n",
       "    </tr>\n",
       "    <tr>\n",
       "      <td>n</td>\n",
       "      <td>0.004070</td>\n",
       "    </tr>\n",
       "  </tbody>\n",
       "</table>\n",
       "</div>"
      ],
      "text/plain": [
       "                0\n",
       "Q (gpm)  0.370326\n",
       "e        0.002366\n",
       "Di/Do    0.583853\n",
       "τ_y      0.002451\n",
       "K        0.036935\n",
       "n        0.004070"
      ]
     },
     "execution_count": 14,
     "metadata": {},
     "output_type": "execute_result"
    }
   ],
   "source": [
    "# feature = pd.DataFrame(data=np.round(list(rf.feature_importances_),2),columns=feature_list)\n",
    "imp_feature=pd.DataFrame(list(rf.feature_importances_))\n",
    "#imp_feature = imp_feature.T\n",
    "imp_feature.index = ['Q (gpm)','e','Di/Do','τ_y','K','n']\n",
    "imp_feature"
   ]
  },
  {
   "cell_type": "code",
   "execution_count": 15,
   "metadata": {},
   "outputs": [
    {
     "data": {
      "text/html": [
       "<div>\n",
       "<style scoped>\n",
       "    .dataframe tbody tr th:only-of-type {\n",
       "        vertical-align: middle;\n",
       "    }\n",
       "\n",
       "    .dataframe tbody tr th {\n",
       "        vertical-align: top;\n",
       "    }\n",
       "\n",
       "    .dataframe thead th {\n",
       "        text-align: right;\n",
       "    }\n",
       "</style>\n",
       "<table border=\"1\" class=\"dataframe\">\n",
       "  <thead>\n",
       "    <tr style=\"text-align: right;\">\n",
       "      <th></th>\n",
       "      <th>0</th>\n",
       "      <th>percentage</th>\n",
       "    </tr>\n",
       "  </thead>\n",
       "  <tbody>\n",
       "    <tr>\n",
       "      <td>Q (gpm)</td>\n",
       "      <td>0.370326</td>\n",
       "      <td>37.032611</td>\n",
       "    </tr>\n",
       "    <tr>\n",
       "      <td>e</td>\n",
       "      <td>0.002366</td>\n",
       "      <td>0.236550</td>\n",
       "    </tr>\n",
       "    <tr>\n",
       "      <td>Di/Do</td>\n",
       "      <td>0.583853</td>\n",
       "      <td>58.385273</td>\n",
       "    </tr>\n",
       "    <tr>\n",
       "      <td>τ_y</td>\n",
       "      <td>0.002451</td>\n",
       "      <td>0.245052</td>\n",
       "    </tr>\n",
       "    <tr>\n",
       "      <td>K</td>\n",
       "      <td>0.036935</td>\n",
       "      <td>3.693533</td>\n",
       "    </tr>\n",
       "    <tr>\n",
       "      <td>n</td>\n",
       "      <td>0.004070</td>\n",
       "      <td>0.406980</td>\n",
       "    </tr>\n",
       "  </tbody>\n",
       "</table>\n",
       "</div>"
      ],
      "text/plain": [
       "                0  percentage\n",
       "Q (gpm)  0.370326   37.032611\n",
       "e        0.002366    0.236550\n",
       "Di/Do    0.583853   58.385273\n",
       "τ_y      0.002451    0.245052\n",
       "K        0.036935    3.693533\n",
       "n        0.004070    0.406980"
      ]
     },
     "execution_count": 15,
     "metadata": {},
     "output_type": "execute_result"
    }
   ],
   "source": [
    "imp_feature['percentage']=imp_feature[0]*100\n",
    "imp_feature"
   ]
  },
  {
   "cell_type": "code",
   "execution_count": 16,
   "metadata": {},
   "outputs": [
    {
     "data": {
      "text/plain": [
       "['Q (gpm)', 'e', 'Di/Do', 'τ_y', 'K', 'n']"
      ]
     },
     "execution_count": 16,
     "metadata": {},
     "output_type": "execute_result"
    }
   ],
   "source": [
    "labels = imp_feature.index.to_list()\n",
    "labels "
   ]
  },
  {
   "cell_type": "code",
   "execution_count": 17,
   "metadata": {},
   "outputs": [
    {
     "data": {
      "image/png": "[encoded data removed]",
      "text/plain": [
       "<Figure size 1080x576 with 1 Axes>"
      ]
     },
     "metadata": {
      "needs_background": "light"
     },
     "output_type": "display_data"
    }
   ],
   "source": [
    "plt.figure(figsize=(15,8))\n",
    "imp_feature['percentage'].sort_values(ascending=False).plot(kind='bar')\n",
    "plt.xlabel('Experimental Parameters',fontsize=18)\n",
    "#plt.xticks(imp_feature['percentage'],imp_feature.index, rotation='vertical')\n",
    "plt.ylabel('Importance Percentage',fontsize=18)\n",
    "plt.title('Feature Importance',fontsize=20)\n",
    "plt.xticks(rotation=0)\n",
    "plt.tick_params(labelsize=20)\n",
    "plt.savefig('feature_importance.jpeg',dpi=200)"
   ]
  },
  {
   "cell_type": "code",
   "execution_count": 18,
   "metadata": {},
   "outputs": [
    {
     "data": {
      "text/plain": [
       "<matplotlib.legend.Legend at 0x22e3fd25b88>"
      ]
     },
     "execution_count": 18,
     "metadata": {},
     "output_type": "execute_result"
    },
    {
     "data": {
      "image/png": "[encoded data removed]",
      "text/plain": [
       "<Figure size 1152x432 with 2 Axes>"
      ]
     },
     "metadata": {
      "needs_background": "light"
     },
     "output_type": "display_data"
    }
   ],
   "source": [
    "# plot trainning and test data \n",
    "fig, ax = plt.subplots(nrows=1, ncols=2, figsize=(16,6))\n",
    "#fig.suptitle('Random Forest', fontsize=16)\n",
    "fig.subplots_adjust(top=.85, wspace=0.2)\n",
    "\n",
    "# first track\n",
    "ax[0].plot((rf.predict(x_train)),(y_train),'x',label='Data Point',ms=7)\n",
    "ax[0].set_ylabel('Predicted Pressure Loss (kPa)',fontsize=15)\n",
    "ax[0].set_xlabel('Observed Pressure Loss (kPa)',fontsize=15)\n",
    "ax[0].grid(True)\n",
    "ax[0].set_title('(a) Training Data')\n",
    "ax[0].plot([0,400],[0,400],'--',label='Best Fit')\n",
    "ax[0].tick_params(labelsize=15)\n",
    "ax[0].legend()\n",
    "\n",
    "# second track\n",
    "ax[1].plot(y_test,predict,'x',label='Data Point',ms=7)\n",
    "ax[1].set_ylabel('Predicted Pressure Loss (kPa)',fontsize=15)\n",
    "ax[1].set_xlabel('Observed Pressure Loss (kPa)',fontsize=15)\n",
    "ax[1].grid(True)\n",
    "ax[1].set_title('(b) Test Data')\n",
    "ax[1].plot([0,400],[0,400],'--',label='Best Fit')\n",
    "ax[1].tick_params(labelsize=15)\n",
    "ax[1].legend()\n",
    "\n",
    "#plt.savefig('RF.jpeg',dpi=200)"
   ]
  },
  {
   "cell_type": "code",
   "execution_count": null,
   "metadata": {},
   "outputs": [],
   "source": []
  },
  {
   "cell_type": "code",
   "execution_count": null,
   "metadata": {},
   "outputs": [],
   "source": []
  }
 ],
 "metadata": {
  "kernelspec": {
   "display_name": "Python 3",
   "language": "python",
   "name": "python3"
  },
  "language_info": {
   "codemirror_mode": {
    "name": "ipython",
    "version": 3
   },
   "file_extension": ".py",
   "mimetype": "text/x-python",
   "name": "python",
   "nbconvert_exporter": "python",
   "pygments_lexer": "ipython3",
   "version": "3.7.4"
  }
 },
 "nbformat": 4,
 "nbformat_minor": 4
}
