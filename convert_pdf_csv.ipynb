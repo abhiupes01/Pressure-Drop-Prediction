{
 "cells": [
  {
   "cell_type": "code",
   "execution_count": 1,
   "metadata": {},
   "outputs": [],
   "source": [
    "import camelot"
   ]
  },
  {
   "cell_type": "code",
   "execution_count": 2,
   "metadata": {},
   "outputs": [],
   "source": [
    "#tables = camelot.read_pdf('convert-28.pdf')"
   ]
  },
  {
   "cell_type": "code",
   "execution_count": 3,
   "metadata": {},
   "outputs": [],
   "source": [
    "#tables"
   ]
  },
  {
   "cell_type": "code",
   "execution_count": 4,
   "metadata": {},
   "outputs": [],
   "source": [
    "#tables.export('test.csv',f='csv',compress=True)"
   ]
  },
  {
   "cell_type": "code",
   "execution_count": 5,
   "metadata": {},
   "outputs": [],
   "source": [
    "#tables[0]"
   ]
  },
  {
   "cell_type": "code",
   "execution_count": 6,
   "metadata": {},
   "outputs": [],
   "source": [
    "#tables[0].parsing_report"
   ]
  },
  {
   "cell_type": "code",
   "execution_count": 7,
   "metadata": {},
   "outputs": [],
   "source": [
    "#tables[0].to_csv('test.csv')"
   ]
  },
  {
   "cell_type": "code",
   "execution_count": 8,
   "metadata": {},
   "outputs": [],
   "source": [
    "#tables[2]"
   ]
  },
  {
   "cell_type": "code",
   "execution_count": 9,
   "metadata": {},
   "outputs": [],
   "source": [
    "#tables[2].to_csv('test_1.csv')"
   ]
  },
  {
   "cell_type": "markdown",
   "metadata": {},
   "source": [
    "# Steps for converting pdf into csv file or other suitable format for camelot\n",
    "# 1) import camelot\n",
    "# 2) tables = camelot.read_pdf(file_name) \n",
    "# 3) tables >>> query to find total tables identified\n",
    "# 4) tables.export(export_file_name.csv,f= format_name, compress =True)\n",
    "# 5) tables[0] >>> gives the shape of the table identified\n",
    "# 6) tables[0].parsing_report >> properties of the table generate\n",
    "# 7) tables[0].to_csv(file_name_to_save.csv)"
   ]
  },
  {
   "cell_type": "code",
   "execution_count": 2,
   "metadata": {},
   "outputs": [
    {
     "data": {
      "text/plain": [
       "['Original_paper.pdf']"
      ]
     },
     "execution_count": 2,
     "metadata": {},
     "output_type": "execute_result"
    }
   ],
   "source": [
    "import os\n",
    "import pandas as pd\n",
    "input_name = list([i for i in os.listdir() if i.endswith('.pdf')])\n",
    "input_name"
   ]
  },
  {
   "cell_type": "code",
   "execution_count": null,
   "metadata": {},
   "outputs": [],
   "source": [
    "#tables.export('test.csv',f='csv',compress=True)"
   ]
  },
  {
   "cell_type": "code",
   "execution_count": 11,
   "metadata": {},
   "outputs": [
    {
     "name": "stderr",
     "output_type": "stream",
     "text": [
      "UserWarning:   (576.0, 578.502) does not lie in column range (324.47249999999997, 575.88) [utils.py:568]\n"
     ]
    }
   ],
   "source": [
    "# tables = camelot.read_pdf('convert-28.pdf')\n",
    "# tables.export('convert-28.csv',f='csv')"
   ]
  },
  {
   "cell_type": "code",
   "execution_count": 11,
   "metadata": {},
   "outputs": [],
   "source": [
    "file_name=list([(i[:-4]+'.csv') for i in input_name])"
   ]
  },
  {
   "cell_type": "code",
   "execution_count": 13,
   "metadata": {},
   "outputs": [
    {
     "name": "stderr",
     "output_type": "stream",
     "text": [
      "UserWarning:   (576.0, 578.502) does not lie in column range (324.47249999999997, 575.88) [utils.py:568]\n",
      "UserWarning:   (576.0, 578.7105) does not lie in column range (324.47994140624996, 575.88) [utils.py:568]\n",
      "UserWarning:   (288.0, 290.7105) does not lie in column range (36.47994140624999, 287.88) [utils.py:568]\n",
      "UserWarning:   (288.0, 290.7105) does not lie in column range (36.479531249999994, 287.88) [utils.py:568]\n",
      "UserWarning:   (576.0, 579.0) does not lie in column range (324.47994140624996, 575.88) [utils.py:568]\n"
     ]
    }
   ],
   "source": [
    "for i,j in zip(file_name,input_name):\n",
    "        tables = camelot.read_pdf(j)\n",
    "        tables.export(i,f='csv',compress=True)"
   ]
  },
  {
   "cell_type": "code",
   "execution_count": 3,
   "metadata": {},
   "outputs": [],
   "source": [
    "test = ['convert-30.pdf']"
   ]
  },
  {
   "cell_type": "code",
   "execution_count": 12,
   "metadata": {},
   "outputs": [
    {
     "data": {
      "text/plain": [
       "['convert-28.csv',\n",
       " 'convert-29.csv',\n",
       " 'convert-30.csv',\n",
       " 'convert-31.csv',\n",
       " 'convert-32.csv',\n",
       " 'convert-33.csv',\n",
       " 'convert-34.csv',\n",
       " 'convert-35.csv',\n",
       " 'convert-36.csv',\n",
       " 'convert-37.csv',\n",
       " 'convert-38.csv',\n",
       " 'convert-39.csv',\n",
       " 'convert-40.csv']"
      ]
     },
     "execution_count": 12,
     "metadata": {},
     "output_type": "execute_result"
    }
   ],
   "source": [
    "file_name"
   ]
  },
  {
   "cell_type": "code",
   "execution_count": 4,
   "metadata": {},
   "outputs": [],
   "source": [
    "import pandas as pd\n",
    "import os"
   ]
  },
  {
   "cell_type": "code",
   "execution_count": 5,
   "metadata": {},
   "outputs": [],
   "source": [
    "df = []\n",
    "for dirpath, dirname, file in os.walk('C:\\\\Users\\\\Syahrir Ridha\\\\TU_Pressure_loss'):\n",
    "    for i in file:\n",
    "        if i.endswith('.csv'):\n",
    "             df.append(pd.read_csv(dirpath+'\\\\'+i))"
   ]
  },
  {
   "cell_type": "code",
   "execution_count": 6,
   "metadata": {},
   "outputs": [],
   "source": [
    "df_name =[]\n",
    "for dirpath, dirname, file in os.walk('C:\\\\Users\\\\Syahrir Ridha\\\\TU_Pressure_loss'):\n",
    "    for i in file:\n",
    "        if i.endswith('.csv'):\n",
    "            df_name.append(i[:-4])"
   ]
  },
  {
   "cell_type": "code",
   "execution_count": 7,
   "metadata": {},
   "outputs": [],
   "source": [
    "for i in range(len(df)):\n",
    "    globals()['df_%i'%(i+1)] = df[i]"
   ]
  },
  {
   "cell_type": "code",
   "execution_count": null,
   "metadata": {},
   "outputs": [],
   "source": [
    "# ew = data[\"Name\"].str.split(\" \", n = 1, expand = True) \n",
    "# df.columns = df.columns.str.replace(' ', '')"
   ]
  },
  {
   "cell_type": "code",
   "execution_count": 8,
   "metadata": {},
   "outputs": [
    {
     "data": {
      "text/html": [
       "<div>\n",
       "<style scoped>\n",
       "    .dataframe tbody tr th:only-of-type {\n",
       "        vertical-align: middle;\n",
       "    }\n",
       "\n",
       "    .dataframe tbody tr th {\n",
       "        vertical-align: top;\n",
       "    }\n",
       "\n",
       "    .dataframe thead th {\n",
       "        text-align: right;\n",
       "    }\n",
       "</style>\n",
       "<table border=\"1\" class=\"dataframe\">\n",
       "  <thead>\n",
       "    <tr style=\"text-align: right;\">\n",
       "      <th></th>\n",
       "      <th>Unnamed: 0</th>\n",
       "      <th>Annulus</th>\n",
       "      <th>Di/Do</th>\n",
       "      <th>pipe_dia_inch</th>\n",
       "      <th>pipe_dia_mm</th>\n",
       "      <th>hole_dia_inch</th>\n",
       "      <th>hole_dia_mm</th>\n",
       "    </tr>\n",
       "  </thead>\n",
       "  <tbody>\n",
       "    <tr>\n",
       "      <th>0</th>\n",
       "      <td>3</td>\n",
       "      <td>#3</td>\n",
       "      <td>0.49</td>\n",
       "      <td>0.68</td>\n",
       "      <td>17.15</td>\n",
       "      <td>1.38</td>\n",
       "      <td>35.05</td>\n",
       "    </tr>\n",
       "    <tr>\n",
       "      <th>1</th>\n",
       "      <td>4</td>\n",
       "      <td>#4</td>\n",
       "      <td>0.76</td>\n",
       "      <td>0.63</td>\n",
       "      <td>15.88</td>\n",
       "      <td>0.82</td>\n",
       "      <td>20.93</td>\n",
       "    </tr>\n",
       "  </tbody>\n",
       "</table>\n",
       "</div>"
      ],
      "text/plain": [
       "   Unnamed: 0 Annulus  Di/Do  pipe_dia_inch  pipe_dia_mm  hole_dia_inch  \\\n",
       "0           3      #3   0.49           0.68        17.15           1.38   \n",
       "1           4      #4   0.76           0.63        15.88           0.82   \n",
       "\n",
       "   hole_dia_mm  \n",
       "0        35.05  \n",
       "1        20.93  "
      ]
     },
     "execution_count": 8,
     "metadata": {},
     "output_type": "execute_result"
    }
   ],
   "source": [
    "df_1"
   ]
  },
  {
   "cell_type": "code",
   "execution_count": 22,
   "metadata": {},
   "outputs": [],
   "source": [
    "dia = df_1['Hole_Diameter'].str.split('\\n',n=1,expand=True)\n",
    "df_1['hole_dia_inch'] = dia[0]\n",
    "df_1['hole_dia_mm'] = dia[1]\n",
    "df_1.drop(columns=['Hole_Diameter'],inplace=True)"
   ]
  },
  {
   "cell_type": "code",
   "execution_count": 43,
   "metadata": {},
   "outputs": [
    {
     "data": {
      "text/html": [
       "<div>\n",
       "<style scoped>\n",
       "    .dataframe tbody tr th:only-of-type {\n",
       "        vertical-align: middle;\n",
       "    }\n",
       "\n",
       "    .dataframe tbody tr th {\n",
       "        vertical-align: top;\n",
       "    }\n",
       "\n",
       "    .dataframe thead th {\n",
       "        text-align: right;\n",
       "    }\n",
       "</style>\n",
       "<table border=\"1\" class=\"dataframe\">\n",
       "  <thead>\n",
       "    <tr style=\"text-align: right;\">\n",
       "      <th></th>\n",
       "      <th>Annulus</th>\n",
       "      <th>Di/Do</th>\n",
       "      <th>pipe_dia_inch</th>\n",
       "      <th>pipe_dia_mm</th>\n",
       "      <th>hole_dia_inch</th>\n",
       "      <th>hole_dia_mm</th>\n",
       "    </tr>\n",
       "  </thead>\n",
       "  <tbody>\n",
       "    <tr>\n",
       "      <th>3</th>\n",
       "      <td>#3</td>\n",
       "      <td>0.49</td>\n",
       "      <td>0.68</td>\n",
       "      <td>17.15</td>\n",
       "      <td>1.38</td>\n",
       "      <td>35.05</td>\n",
       "    </tr>\n",
       "    <tr>\n",
       "      <th>4</th>\n",
       "      <td>#4</td>\n",
       "      <td>0.76</td>\n",
       "      <td>0.63</td>\n",
       "      <td>15.88</td>\n",
       "      <td>0.82</td>\n",
       "      <td>20.93</td>\n",
       "    </tr>\n",
       "  </tbody>\n",
       "</table>\n",
       "</div>"
      ],
      "text/plain": [
       "  Annulus  Di/Do pipe_dia_inch pipe_dia_mm hole_dia_inch hole_dia_mm\n",
       "3      #3   0.49          0.68       17.15          1.38       35.05\n",
       "4      #4   0.76          0.63       15.88          0.82       20.93"
      ]
     },
     "execution_count": 43,
     "metadata": {},
     "output_type": "execute_result"
    }
   ],
   "source": [
    "df_1"
   ]
  },
  {
   "cell_type": "code",
   "execution_count": 11,
   "metadata": {},
   "outputs": [
    {
     "data": {
      "text/html": [
       "<div>\n",
       "<style scoped>\n",
       "    .dataframe tbody tr th:only-of-type {\n",
       "        vertical-align: middle;\n",
       "    }\n",
       "\n",
       "    .dataframe tbody tr th {\n",
       "        vertical-align: top;\n",
       "    }\n",
       "\n",
       "    .dataframe thead th {\n",
       "        text-align: right;\n",
       "    }\n",
       "</style>\n",
       "<table border=\"1\" class=\"dataframe\">\n",
       "  <thead>\n",
       "    <tr style=\"text-align: right;\">\n",
       "      <th></th>\n",
       "      <th>Unnamed: 0</th>\n",
       "      <th>Annulus</th>\n",
       "      <th>Di/Do</th>\n",
       "      <th>pipe_dia_inch</th>\n",
       "      <th>pipe_dia_mm</th>\n",
       "      <th>hole_dia_inch</th>\n",
       "      <th>hole_dia_mm</th>\n",
       "    </tr>\n",
       "  </thead>\n",
       "  <tbody>\n",
       "    <tr>\n",
       "      <th>0</th>\n",
       "      <td>3</td>\n",
       "      <td>#3</td>\n",
       "      <td>0.49</td>\n",
       "      <td>0.68</td>\n",
       "      <td>17.15</td>\n",
       "      <td>1.38</td>\n",
       "      <td>35.05</td>\n",
       "    </tr>\n",
       "    <tr>\n",
       "      <th>1</th>\n",
       "      <td>4</td>\n",
       "      <td>#4</td>\n",
       "      <td>0.76</td>\n",
       "      <td>0.63</td>\n",
       "      <td>15.88</td>\n",
       "      <td>0.82</td>\n",
       "      <td>20.93</td>\n",
       "    </tr>\n",
       "  </tbody>\n",
       "</table>\n",
       "</div>"
      ],
      "text/plain": [
       "   Unnamed: 0 Annulus  Di/Do  pipe_dia_inch  pipe_dia_mm  hole_dia_inch  \\\n",
       "0           3      #3   0.49           0.68        17.15           1.38   \n",
       "1           4      #4   0.76           0.63        15.88           0.82   \n",
       "\n",
       "   hole_dia_mm  \n",
       "0        35.05  \n",
       "1        20.93  "
      ]
     },
     "execution_count": 11,
     "metadata": {},
     "output_type": "execute_result"
    }
   ],
   "source": [
    "df_1"
   ]
  },
  {
   "cell_type": "code",
   "execution_count": 42,
   "metadata": {},
   "outputs": [
    {
     "data": {
      "text/plain": [
       "array([nan, nan, 'XCD [% wt]', 'PAC [% wt]', '[lbf/100ft2]', '[Pa]',\n",
       "       '[lbf/100ft2s m]', '[Pasm]', nan, '[°F]'], dtype=object)"
      ]
     },
     "execution_count": 42,
     "metadata": {},
     "output_type": "execute_result"
    }
   ],
   "source": [
    "df_2.iloc[0].values"
   ]
  },
  {
   "cell_type": "code",
   "execution_count": null,
   "metadata": {},
   "outputs": [],
   "source": []
  }
 ],
 "metadata": {
  "kernelspec": {
   "display_name": "Python 3",
   "language": "python",
   "name": "python3"
  },
  "language_info": {
   "codemirror_mode": {
    "name": "ipython",
    "version": 3
   },
   "file_extension": ".py",
   "mimetype": "text/x-python",
   "name": "python",
   "nbconvert_exporter": "python",
   "pygments_lexer": "ipython3",
   "version": "3.7.4"
  }
 },
 "nbformat": 4,
 "nbformat_minor": 4
}
